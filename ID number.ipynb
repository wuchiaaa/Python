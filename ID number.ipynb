{
 "cells": [
  {
   "cell_type": "code",
   "execution_count": null,
   "metadata": {},
   "outputs": [],
   "source": [
    "\"\"\"\n",
    "<練習題>\n",
    "身分證字號 規則 驗證\n",
    "\"\"\"\n",
    "import re\n",
    "\n",
    "area='0123456789ABCDEFGHJKLMNPQRSTUVXYWZIO'\n",
    "inputid=input(\"請輸入身份證字號：\")\n",
    "\n",
    "total = 0\n",
    "\n",
    "#if re.match('^[A-Z]{1}(1|2)\\\\d{8}$', inputid):   # '^...&' -->表示正則表達式\n",
    "if re.match(r'[A-Z]{1}(1|2)\\d{8}', inputid):      # \\\\d 表示特殊字元,如單純寫\\d需加上r\n",
    "    for i in range(9):\n",
    "        index = area.index(inputid[i])\n",
    "        if index>=10:\n",
    "            total += index // 10 * 1\n",
    "            total += index % 10 * 9\n",
    "        else:\n",
    "            total += index * (9-i)    \n",
    "    print('total=', total)   \n",
    "    if (10 - (total % 10)) == int(inputid[9]):\n",
    "        print(inputid, '正確')\n",
    "    else:\n",
    "        print(inputid, '錯誤')\n",
    "\n",
    "else:\n",
    "    print('格式錯誤')"
   ]
  }
 ],
 "metadata": {
  "kernelspec": {
   "display_name": "Python 3",
   "language": "python",
   "name": "python3"
  },
  "language_info": {
   "codemirror_mode": {
    "name": "ipython",
    "version": 3
   },
   "file_extension": ".py",
   "mimetype": "text/x-python",
   "name": "python",
   "nbconvert_exporter": "python",
   "pygments_lexer": "ipython3",
   "version": "3.7.0"
  }
 },
 "nbformat": 4,
 "nbformat_minor": 2
}
